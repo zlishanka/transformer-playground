{
 "cells": [
  {
   "cell_type": "markdown",
   "id": "2ae3a334-f869-43a6-91bf-7932f5c35971",
   "metadata": {},
   "source": [
    "Image Patching "
   ]
  },
  {
   "cell_type": "code",
   "execution_count": 2,
   "id": "bf1a0412-d9f9-40f4-81a8-d9bdd35e80ec",
   "metadata": {},
   "outputs": [],
   "source": [
    "import torch\n",
    "from torchvision.datasets import OxfordIIITPet\n",
    "import matplotlib.pyplot as plt\n",
    "from random import random\n",
    "from torchvision.transforms import Resize, ToTensor\n",
    "from torchvision.transforms.functional import to_pil_image\n",
    "\n",
    "to_tensor = [Resize((144, 144)), ToTensor()]"
   ]
  },
  {
   "cell_type": "code",
   "execution_count": 3,
   "id": "1355d7c2-2d53-4953-9fc3-6c7e2e828311",
   "metadata": {},
   "outputs": [],
   "source": [
    "class Compose(object):\n",
    "    def __init__(self, transforms):\n",
    "        self.transforms = transforms\n",
    "\n",
    "    def __call__(self, image, target):\n",
    "        for t in self.transforms:\n",
    "            image = t(image)\n",
    "        return image, target"
   ]
  },
  {
   "cell_type": "code",
   "execution_count": 4,
   "id": "bee724c8-19bc-4ea5-b3e5-9004f5d593b7",
   "metadata": {},
   "outputs": [
    {
     "data": {
      "text/plain": [
       "torch.Size([3, 144, 144])"
      ]
     },
     "execution_count": 4,
     "metadata": {},
     "output_type": "execute_result"
    }
   ],
   "source": [
    "def show_images(images, num_samples=40, cols=8):\n",
    "    \"\"\" Plots some samples from the dataset \"\"\"\n",
    "    plt.figure(figsize=(15,15))\n",
    "    idx = int(len(dataset) / num_samples)\n",
    "    print(images)\n",
    "    for i, img in enumerate(images):\n",
    "        if i % idx == 0:\n",
    "            plt.subplot(int(num_samples/cols) + 1, cols, int(i/idx) + 1)\n",
    "            plt.imshow(to_pil_image(img[0]))\n",
    "\n",
    "# 200 images for each pet\n",
    "#dataset = OxfordIIITPet(root=\".\", download=True, transforms=Compose(to_tensor))\n",
    "dataset = OxfordIIITPet(root=\".\", download=False, transforms=Compose(to_tensor))\n",
    "#dataset = load_dataset(\"timm/oxford-iiit-pet\")\n",
    "#show_images(dataset)\n",
    "dataset[0][0].shape"
   ]
  },
  {
   "cell_type": "markdown",
   "id": "25c97ae5-0e1e-4b45-8155-1d778236c9d8",
   "metadata": {},
   "source": [
    "Patch Images"
   ]
  },
  {
   "cell_type": "code",
   "execution_count": 5,
   "id": "5134f4a5-3154-4a62-8c2e-c7f57f5814dc",
   "metadata": {},
   "outputs": [],
   "source": [
    "from torch import nn\n",
    "from einops.layers.torch import Rearrange\n",
    "from torch import Tensor\n",
    "\n",
    "class PatchEmbedding(nn.Module):\n",
    "    def __init__(self, in_channels = 3, patch_size = 8, emb_size = 128):\n",
    "        self.patch_size = patch_size\n",
    "        super().__init__()\n",
    "        self.projection = nn.Sequential(\n",
    "            # break-down the image in s1 x s2 patches and flat them\n",
    "            Rearrange('b c (h p1) (w p2) -> b (h w) (p1 p2 c)', p1=patch_size, p2=patch_size),\n",
    "            nn.Linear(patch_size * patch_size * in_channels, emb_size)\n",
    "        )\n",
    "\n",
    "    def forward(self, x: Tensor) -> Tensor:\n",
    "        x = self.projection(x)\n",
    "        return x"
   ]
  },
  {
   "cell_type": "code",
   "execution_count": 6,
   "id": "bcfb9c6c-cae1-4248-8462-669e95ab3845",
   "metadata": {},
   "outputs": [
    {
     "name": "stdout",
     "output_type": "stream",
     "text": [
      "Initial shape:  torch.Size([1, 3, 144, 144])\n",
      "Patches shape:  torch.Size([1, 324, 128])\n"
     ]
    }
   ],
   "source": [
    "# Run a quick test\n",
    "sample_datapoint = torch.unsqueeze(dataset[0][0], 0)\n",
    "print(\"Initial shape: \", sample_datapoint.shape)\n",
    "embedding = PatchEmbedding()(sample_datapoint)\n",
    "print(\"Patches shape: \", embedding.shape)"
   ]
  },
  {
   "cell_type": "markdown",
   "id": "172a1ef0-feea-49da-b4ad-2fa76ae0de01",
   "metadata": {},
   "source": [
    "Model"
   ]
  },
  {
   "cell_type": "code",
   "execution_count": 7,
   "id": "68028fce-7b25-4822-bbc0-da19b9b77758",
   "metadata": {},
   "outputs": [],
   "source": [
    "from einops import rearrange\n",
    "\n",
    "class Attention(nn.Module):\n",
    "    def __init__(self, dim, n_heads, dropout):\n",
    "        super().__init__()\n",
    "        self.n_heads = n_heads\n",
    "        self.att = torch.nn.MultiheadAttention(embed_dim=dim,\n",
    "                                               num_heads=n_heads,\n",
    "                                               dropout=dropout)\n",
    "        self.q = torch.nn.Linear(dim, dim)\n",
    "        self.k = torch.nn.Linear(dim, dim)\n",
    "        self.v = torch.nn.Linear(dim, dim)\n",
    "\n",
    "    def forward(self, x):\n",
    "        q = self.q(x)\n",
    "        k = self.k(x)\n",
    "        v = self.v(x)\n",
    "        attn_output, attn_output_weights = self.att(x, x, x)\n",
    "        return attn_output"
   ]
  },
  {
   "cell_type": "code",
   "execution_count": 8,
   "id": "19cb92a3-7791-48be-bd23-ba394fa5915e",
   "metadata": {},
   "outputs": [
    {
     "data": {
      "text/plain": [
       "torch.Size([1, 5, 128])"
      ]
     },
     "execution_count": 8,
     "metadata": {},
     "output_type": "execute_result"
    }
   ],
   "source": [
    "Attention(dim=128, n_heads=4, dropout=0.)(torch.ones((1, 5, 128))).shape"
   ]
  },
  {
   "cell_type": "code",
   "execution_count": 9,
   "id": "3b457766-2f96-4635-a266-67b223f94083",
   "metadata": {},
   "outputs": [],
   "source": [
    "class PreNorm(nn.Module):\n",
    "    def __init__(self, dim, fn):\n",
    "        super().__init__()\n",
    "        self.norm = nn.LayerNorm(dim)\n",
    "        self.fn = fn\n",
    "    def forward(self, x, **kwargs):\n",
    "        return self.fn(self.norm(x), **kwargs)"
   ]
  },
  {
   "cell_type": "code",
   "execution_count": 10,
   "id": "18b359a3-8b42-401c-be60-5f48c0fa6366",
   "metadata": {},
   "outputs": [
    {
     "data": {
      "text/plain": [
       "torch.Size([1, 5, 128])"
      ]
     },
     "execution_count": 10,
     "metadata": {},
     "output_type": "execute_result"
    }
   ],
   "source": [
    "norm = PreNorm(128, Attention(dim=128, n_heads=4, dropout=0.))\n",
    "norm(torch.ones((1, 5, 128))).shape"
   ]
  },
  {
   "cell_type": "code",
   "execution_count": 11,
   "id": "988b2d9f-3f6b-4165-b3e7-72f2e285ae62",
   "metadata": {},
   "outputs": [
    {
     "data": {
      "text/plain": [
       "torch.Size([1, 5, 128])"
      ]
     },
     "execution_count": 11,
     "metadata": {},
     "output_type": "execute_result"
    }
   ],
   "source": [
    "class FeedForward(nn.Sequential):\n",
    "    def __init__(self, dim, hidden_dim, dropout = 0.):\n",
    "        super().__init__(\n",
    "            nn.Linear(dim, hidden_dim),\n",
    "            nn.GELU(),\n",
    "            nn.Dropout(dropout),\n",
    "            nn.Linear(hidden_dim, dim),\n",
    "            nn.Dropout(dropout)\n",
    "        )\n",
    "ff = FeedForward(dim=128, hidden_dim=256)\n",
    "ff(torch.ones((1, 5, 128))).shape"
   ]
  },
  {
   "cell_type": "code",
   "execution_count": 12,
   "id": "69be5e9f-f37e-4e69-a55c-c64a5dcdf090",
   "metadata": {},
   "outputs": [],
   "source": [
    "class ResidualAdd(nn.Module):\n",
    "    def __init__(self, fn):\n",
    "        super().__init__()\n",
    "        self.fn = fn\n",
    "\n",
    "    def forward(self, x, **kwargs):\n",
    "        res = x\n",
    "        x = self.fn(x, **kwargs)\n",
    "        x += res\n",
    "        return x"
   ]
  },
  {
   "cell_type": "code",
   "execution_count": 13,
   "id": "7b0c9f13-7d12-49f5-a6ce-0d99c90bdfbe",
   "metadata": {},
   "outputs": [
    {
     "data": {
      "text/plain": [
       "torch.Size([1, 5, 128])"
      ]
     },
     "execution_count": 13,
     "metadata": {},
     "output_type": "execute_result"
    }
   ],
   "source": [
    "residual_att = ResidualAdd(Attention(dim=128, n_heads=4, dropout=0.))\n",
    "residual_att(torch.ones((1, 5, 128))).shape"
   ]
  },
  {
   "cell_type": "code",
   "execution_count": 14,
   "id": "7c9618c6-b89e-49d6-a2e3-bb5a40623215",
   "metadata": {},
   "outputs": [],
   "source": [
    "from einops import repeat\n",
    "\n",
    "class ViT(nn.Module):\n",
    "    def __init__(self, ch=3, img_size=144, patch_size=4, emb_dim=32,\n",
    "                n_layers=6, out_dim=37, dropout=0.1, heads=2):\n",
    "        super(ViT, self).__init__()\n",
    "\n",
    "        # Attributes\n",
    "        self.channels = ch\n",
    "        self.height = img_size\n",
    "        self.width = img_size\n",
    "        self.patch_size = patch_size\n",
    "        self.n_layers = n_layers\n",
    "\n",
    "        # Patching\n",
    "        self.patch_embedding = PatchEmbedding(in_channels=ch,\n",
    "                                              patch_size=patch_size,\n",
    "                                              emb_size=emb_dim)\n",
    "        # Learnable params\n",
    "        num_patches = (img_size // patch_size) ** 2\n",
    "        self.pos_embedding = nn.Parameter(\n",
    "            torch.randn(1, num_patches + 1, emb_dim))\n",
    "        self.cls_token = nn.Parameter(torch.rand(1, 1, emb_dim))\n",
    "\n",
    "        # Transformer Encoder\n",
    "        self.layers = nn.ModuleList([])\n",
    "        for _ in range(n_layers):\n",
    "            transformer_block = nn.Sequential(\n",
    "                ResidualAdd(PreNorm(emb_dim, Attention(emb_dim, n_heads = heads, dropout = dropout))),\n",
    "                ResidualAdd(PreNorm(emb_dim, FeedForward(emb_dim, emb_dim, dropout = dropout))))\n",
    "            self.layers.append(transformer_block)\n",
    "\n",
    "        # Classification head\n",
    "        self.head = nn.Sequential(nn.LayerNorm(emb_dim), nn.Linear(emb_dim, out_dim))\n",
    "\n",
    "\n",
    "    def forward(self, img):\n",
    "        # Get patch embedding vectors\n",
    "        x = self.patch_embedding(img)\n",
    "        b, n, _ = x.shape\n",
    "\n",
    "        # Add cls token to inputs\n",
    "        cls_tokens = repeat(self.cls_token, '1 1 d -> b 1 d', b = b)\n",
    "        x = torch.cat([cls_tokens, x], dim=1)\n",
    "        x += self.pos_embedding[:, :(n + 1)]\n",
    "\n",
    "        # Transformer layers\n",
    "        for i in range(self.n_layers):\n",
    "            x = self.layers[i](x)\n",
    "\n",
    "        # Output based on classification token\n",
    "        return self.head(x[:, 0, :])\n"
   ]
  },
  {
   "cell_type": "code",
   "execution_count": 15,
   "id": "10f60560-ae8d-4da0-afac-8e924f3b4155",
   "metadata": {},
   "outputs": [
    {
     "data": {
      "text/plain": [
       "tensor([[ 0.3861,  0.2235,  0.8196, -0.4908,  1.0599, -1.2956,  0.0229, -0.8512,\n",
       "          0.3538,  0.5610, -0.4286,  0.1826, -0.3505,  0.8473,  0.6093, -0.3269,\n",
       "         -0.5821,  0.1116,  0.2766,  1.3282,  0.0777, -0.6888, -0.1432,  0.1084,\n",
       "          0.6860, -0.1683,  0.8993, -0.1121,  0.8256, -1.1903, -0.7502,  0.9089,\n",
       "          0.6497,  0.5620,  1.0459,  0.0953, -0.2629]],\n",
       "       grad_fn=<AddmmBackward0>)"
      ]
     },
     "execution_count": 15,
     "metadata": {},
     "output_type": "execute_result"
    }
   ],
   "source": [
    "model = ViT()\n",
    "#print(model)\n",
    "model(torch.ones((1, 3, 144, 144)))"
   ]
  },
  {
   "cell_type": "markdown",
   "id": "9d35527f-9fb9-46cc-ac63-6a73ac9e9736",
   "metadata": {},
   "source": [
    "Training"
   ]
  },
  {
   "cell_type": "code",
   "execution_count": 16,
   "id": "f62ae253-ba11-419a-a78e-50bbd57109d2",
   "metadata": {},
   "outputs": [],
   "source": [
    "from torch.utils.data import DataLoader\n",
    "from torch.utils.data import random_split\n",
    "\n",
    "train_split = int(0.8 * len(dataset))\n",
    "train, test = random_split(dataset, [train_split, len(dataset) - train_split])\n",
    "\n",
    "train_dataloader = DataLoader(train, batch_size=32, shuffle=True)\n",
    "test_dataloader = DataLoader(test, batch_size=32, shuffle=True)"
   ]
  },
  {
   "cell_type": "code",
   "execution_count": 17,
   "id": "73476d06-8d23-4a2e-8b85-e5b68582ab54",
   "metadata": {},
   "outputs": [
    {
     "name": "stdout",
     "output_type": "stream",
     "text": [
      ">>> Epoch 0 train loss:  3.655493070249972\n",
      ">>> Epoch 0 test loss:  3.6317388493081797\n",
      ">>> Epoch 5 train loss:  3.6239259061606033\n",
      ">>> Epoch 5 test loss:  3.6374786833058232\n",
      ">>> Epoch 10 train loss:  3.61997556945552\n",
      ">>> Epoch 10 test loss:  3.6365811928458838\n",
      ">>> Epoch 15 train loss:  3.619202619013579\n",
      ">>> Epoch 15 test loss:  3.626831583354784\n"
     ]
    }
   ],
   "source": [
    "import torch.optim as optim\n",
    "import numpy as np\n",
    "\n",
    "device = \"mps\"\n",
    "model = ViT().to(device)\n",
    "optimizer = optim.AdamW(model.parameters(), lr=0.001)\n",
    "criterion = nn.CrossEntropyLoss()\n",
    "\n",
    "for epoch in range(20):\n",
    "    epoch_losses = []\n",
    "    model.train()\n",
    "    for step, (inputs, labels) in enumerate(train_dataloader):\n",
    "        inputs, labels = inputs.to(device), labels.to(device)\n",
    "        optimizer.zero_grad()\n",
    "        outputs = model(inputs)\n",
    "        loss = criterion(outputs, labels)\n",
    "        loss.backward()\n",
    "        optimizer.step()\n",
    "        epoch_losses.append(loss.item())\n",
    "    if epoch % 5 == 0:\n",
    "        print(f\">>> Epoch {epoch} train loss: \", np.mean(epoch_losses))\n",
    "        epoch_losses = []\n",
    "        # Something was strange when using this?\n",
    "        # model.eval()\n",
    "        for step, (inputs, labels) in enumerate(test_dataloader):\n",
    "            inputs, labels = inputs.to(device), labels.to(device)\n",
    "            outputs = model(inputs)\n",
    "            loss = criterion(outputs, labels)\n",
    "            epoch_losses.append(loss.item())\n",
    "        print(f\">>> Epoch {epoch} test loss: \", np.mean(epoch_losses))"
   ]
  },
  {
   "cell_type": "code",
   "execution_count": 40,
   "id": "9b6e8468-6f02-42bc-ade6-4f7be53bb236",
   "metadata": {},
   "outputs": [
    {
     "name": "stdout",
     "output_type": "stream",
     "text": [
      "Predicted classes tensor([26, 26, 26,  6, 26, 26,  6, 26, 26, 26, 26, 26,  6, 26, 26,  6, 26, 26,\n",
      "        26,  6,  1, 26, 26, 26, 26, 26, 26, 26,  6, 26, 26, 26],\n",
      "       device='mps:0')\n",
      "Actual classes tensor([10,  7, 16,  7, 27, 10, 25, 22,  3,  5,  3,  4,  2,  7, 34, 15, 18, 13,\n",
      "        24, 17, 30, 32, 19,  6, 18, 23, 24, 14, 32, 31,  0, 17],\n",
      "       device='mps:0')\n"
     ]
    }
   ],
   "source": [
    "inputs, labels = next(iter(test_dataloader))\n",
    "inputs, labels = inputs.to(device), labels.to(device)\n",
    "outputs = model(inputs)\n",
    "\n",
    "print(\"Predicted classes\", outputs.argmax(-1))\n",
    "print(\"Actual classes\", labels)"
   ]
  },
  {
   "cell_type": "code",
   "execution_count": null,
   "id": "71ea73af-0f83-43d2-ac63-bd8481e31d09",
   "metadata": {},
   "outputs": [],
   "source": []
  }
 ],
 "metadata": {
  "kernelspec": {
   "display_name": "Python 3 (ipykernel)",
   "language": "python",
   "name": "python3"
  },
  "language_info": {
   "codemirror_mode": {
    "name": "ipython",
    "version": 3
   },
   "file_extension": ".py",
   "mimetype": "text/x-python",
   "name": "python",
   "nbconvert_exporter": "python",
   "pygments_lexer": "ipython3",
   "version": "3.11.8"
  }
 },
 "nbformat": 4,
 "nbformat_minor": 5
}
